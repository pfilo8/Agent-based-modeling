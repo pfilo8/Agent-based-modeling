{
 "cells": [
  {
   "cell_type": "markdown",
   "metadata": {},
   "source": [
    "# Figure 1"
   ]
  },
  {
   "cell_type": "code",
   "execution_count": 1,
   "metadata": {},
   "outputs": [
    {
     "name": "stderr",
     "output_type": "stream",
     "text": [
      "In /home/pwielopolski/anaconda3/envs/datascience/lib/python3.7/site-packages/matplotlib/mpl-data/stylelib/_classic_test.mplstyle: \n",
      "The text.latex.preview rcparam was deprecated in Matplotlib 3.3 and will be removed two minor releases later.\n",
      "In /home/pwielopolski/anaconda3/envs/datascience/lib/python3.7/site-packages/matplotlib/mpl-data/stylelib/_classic_test.mplstyle: \n",
      "The mathtext.fallback_to_cm rcparam was deprecated in Matplotlib 3.3 and will be removed two minor releases later.\n",
      "In /home/pwielopolski/anaconda3/envs/datascience/lib/python3.7/site-packages/matplotlib/mpl-data/stylelib/_classic_test.mplstyle: Support for setting the 'mathtext.fallback_to_cm' rcParam is deprecated since 3.3 and will be removed two minor releases later; use 'mathtext.fallback : 'cm' instead.\n",
      "In /home/pwielopolski/anaconda3/envs/datascience/lib/python3.7/site-packages/matplotlib/mpl-data/stylelib/_classic_test.mplstyle: \n",
      "The validate_bool_maybe_none function was deprecated in Matplotlib 3.3 and will be removed two minor releases later.\n",
      "In /home/pwielopolski/anaconda3/envs/datascience/lib/python3.7/site-packages/matplotlib/mpl-data/stylelib/_classic_test.mplstyle: \n",
      "The savefig.jpeg_quality rcparam was deprecated in Matplotlib 3.3 and will be removed two minor releases later.\n",
      "In /home/pwielopolski/anaconda3/envs/datascience/lib/python3.7/site-packages/matplotlib/mpl-data/stylelib/_classic_test.mplstyle: \n",
      "The keymap.all_axes rcparam was deprecated in Matplotlib 3.3 and will be removed two minor releases later.\n",
      "In /home/pwielopolski/anaconda3/envs/datascience/lib/python3.7/site-packages/matplotlib/mpl-data/stylelib/_classic_test.mplstyle: \n",
      "The animation.avconv_path rcparam was deprecated in Matplotlib 3.3 and will be removed two minor releases later.\n",
      "In /home/pwielopolski/anaconda3/envs/datascience/lib/python3.7/site-packages/matplotlib/mpl-data/stylelib/_classic_test.mplstyle: \n",
      "The animation.avconv_args rcparam was deprecated in Matplotlib 3.3 and will be removed two minor releases later.\n"
     ]
    }
   ],
   "source": [
    "from tqdm import tqdm\n",
    "import pandas as pd\n",
    "import matplotlib.pyplot as plt\n",
    "import plotly.graph_objs as go\n",
    "\n",
    "from agent.Vampire import SimpleVampire \n",
    "from model.VampireModel import VampireModel "
   ]
  },
  {
   "cell_type": "code",
   "execution_count": 2,
   "metadata": {},
   "outputs": [],
   "source": [
    "MC = 100"
   ]
  },
  {
   "cell_type": "markdown",
   "metadata": {},
   "source": [
    "# Without reproduction"
   ]
  },
  {
   "cell_type": "code",
   "execution_count": 3,
   "metadata": {},
   "outputs": [
    {
     "name": "stderr",
     "output_type": "stream",
     "text": [
      "100%|██████████| 100/100 [00:06<00:00, 15.82it/s]\n"
     ]
    }
   ],
   "source": [
    "df_false = pd.DataFrame()\n",
    "for i in tqdm(range(MC)):\n",
    "    model = VampireModel(\n",
    "        n_roots = 10,\n",
    "        root_size = 15,\n",
    "        max_iteration = 350,\n",
    "        hunt_probability = 0.93,\n",
    "        food_sharing = False,\n",
    "        reproduction = False,\n",
    "        vampire_type = SimpleVampire\n",
    "    )\n",
    "    model.run_model()\n",
    "    df_false.insert(loc=i, column=str(i), value=model.datacollector.get_model_vars_dataframe().squeeze())\n",
    "\n",
    "df_false['mean'] = df_false.mean(axis=1)\n",
    "df_false['std'] = df_false.std(axis=1)"
   ]
  },
  {
   "cell_type": "code",
   "execution_count": 4,
   "metadata": {},
   "outputs": [
    {
     "name": "stderr",
     "output_type": "stream",
     "text": [
      "100%|██████████| 100/100 [00:12<00:00,  8.15it/s]\n"
     ]
    }
   ],
   "source": [
    "df_true = pd.DataFrame()\n",
    "for i in tqdm(range(MC)):\n",
    "    model = VampireModel(\n",
    "        n_roots = 10,\n",
    "        root_size = 15,\n",
    "        max_iteration = 350, \n",
    "        hunt_probability = 0.93,\n",
    "        food_sharing = True,\n",
    "        reproduction = False,\n",
    "        vampire_type = SimpleVampire\n",
    "    )\n",
    "    model.run_model()\n",
    "    df_true.insert(loc=i, column=str(i), value=model.datacollector.get_model_vars_dataframe().squeeze())\n",
    "\n",
    "df_true['mean'] = df_true.mean(axis=1)\n",
    "df_true['std'] = df_true.std(axis=1)"
   ]
  },
  {
   "cell_type": "markdown",
   "metadata": {},
   "source": [
    "# Reproduction"
   ]
  },
  {
   "cell_type": "code",
   "execution_count": 5,
   "metadata": {},
   "outputs": [
    {
     "name": "stderr",
     "output_type": "stream",
     "text": [
      "100%|██████████| 100/100 [00:06<00:00, 16.40it/s]\n"
     ]
    }
   ],
   "source": [
    "df_false_repro = pd.DataFrame()\n",
    "for i in tqdm(range(MC)):\n",
    "    model = VampireModel(\n",
    "        n_roots = 10,\n",
    "        root_size = 15,\n",
    "        max_iteration = 350,\n",
    "        hunt_probability = 0.93,\n",
    "        food_sharing = False,\n",
    "        reproduction = True,\n",
    "        reproduction_probability = 0.5,\n",
    "        vampire_type = SimpleVampire\n",
    "    )\n",
    "    model.run_model()\n",
    "    df_false_repro.insert(loc=i, column=str(i), value=model.datacollector.get_model_vars_dataframe().squeeze())\n",
    "\n",
    "df_false_repro['mean'] = df_false_repro.mean(axis=1)\n",
    "df_false_repro['std'] = df_false_repro.std(axis=1)"
   ]
  },
  {
   "cell_type": "code",
   "execution_count": 6,
   "metadata": {},
   "outputs": [
    {
     "name": "stderr",
     "output_type": "stream",
     "text": [
      "100%|██████████| 100/100 [00:14<00:00,  6.72it/s]\n"
     ]
    }
   ],
   "source": [
    "df_true_repro = pd.DataFrame()\n",
    "for i in tqdm(range(MC)):\n",
    "    model = VampireModel(\n",
    "        n_roots = 10,\n",
    "        root_size = 15,\n",
    "        max_iteration = 350, \n",
    "        hunt_probability = 0.93,\n",
    "        food_sharing = True,\n",
    "        reproduction = True,\n",
    "        reproduction_probability = 0.5,\n",
    "        vampire_type = SimpleVampire\n",
    "    )\n",
    "    model.run_model()\n",
    "    df_true_repro.insert(loc=i, column=str(i), value=model.datacollector.get_model_vars_dataframe().squeeze())\n",
    "\n",
    "df_true_repro['mean'] = df_true_repro.mean(axis=1)\n",
    "df_true_repro['std'] = df_true_repro.std(axis=1)"
   ]
  },
  {
   "cell_type": "code",
   "execution_count": 11,
   "metadata": {},
   "outputs": [],
   "source": [
    "layout = go.Layout(\n",
    "    xaxis=dict(\n",
    "        title='Iteracja',\n",
    "        linecolor=\"#BCCCDC\", \n",
    "        showgrid=False  \n",
    "    ),\n",
    "    yaxis=dict(\n",
    "        title='Liczba nietoperzy',  \n",
    "        linecolor=\"#BCCCDC\",  \n",
    "        showgrid=False,  \n",
    "    )\n",
    ")\n",
    "\n",
    "fig = go.Figure([\n",
    "    go.Scatter(\n",
    "        name='Z Food Sharingiem i bez reprodukcji',\n",
    "        legendgroup = \"Food Sharing\",\n",
    "        x=df_true.index,\n",
    "        y=df_true['mean'],\n",
    "        mode='lines',\n",
    "        line=dict(color='#c6dc5a', width=4, dash='dot'), \n",
    "    ),\n",
    "    go.Scatter(\n",
    "        name='Z Food Sharingiem i z reprodukcją',\n",
    "        legendgroup = \"Food Sharing\",\n",
    "        x=df_true_repro.index,\n",
    "        y=df_true_repro['mean'],\n",
    "        mode='lines',\n",
    "        line=dict(color='#c6dc5a', width=4), \n",
    "    ),\n",
    "    go.Scatter(\n",
    "        name='Bez Food Sharingu i bez reprodukcji',\n",
    "        legendgroup = \"Without Food Sharing\",\n",
    "        x=df_false.index,\n",
    "        y=df_false['mean'],\n",
    "        mode='lines',\n",
    "        line=dict(color='#370725', width=4, dash='dot'), \n",
    "    ),\n",
    "    go.Scatter(\n",
    "        name='Bez Food Sharingu i z reprodukcją',\n",
    "        legendgroup = \"Without Food Sharing\",\n",
    "        x=df_false_repro.index,\n",
    "        y=df_false_repro['mean'],\n",
    "        mode='lines',\n",
    "        line=dict(color='#370725', width=4), \n",
    "    )\n",
    "], layout=layout)\n",
    "\n",
    "fig.update_layout(\n",
    "    template=\"plotly_dark\", \n",
    "    plot_bgcolor='#a38285', \n",
    "    paper_bgcolor='#a38285', \n",
    "    font_size=16,\n",
    "    legend=dict(\n",
    "        yanchor=\"bottom\",\n",
    "        y=0.01,\n",
    "        xanchor=\"left\",\n",
    "        x=0.01\n",
    "    )\n",
    ")\n",
    "fig.update_yaxes(range=[0, max(\n",
    "    df_false_repro['mean'].max(), \n",
    "    df_true_repro['mean'].max(), \n",
    "    df_false['mean'].max(),\n",
    "    df_true['mean'].max()\n",
    ")])\n",
    "fig.to_image(format='png')\n",
    "fig.write_image('results/food_sharing.jpg')\n",
    "# fig.show()\n"
   ]
  },
  {
   "cell_type": "code",
   "execution_count": null,
   "metadata": {},
   "outputs": [],
   "source": []
  }
 ],
 "metadata": {
  "hide_input": false,
  "kernelspec": {
   "display_name": "Python 3",
   "language": "python",
   "name": "python3"
  },
  "language_info": {
   "codemirror_mode": {
    "name": "ipython",
    "version": 3
   },
   "file_extension": ".py",
   "mimetype": "text/x-python",
   "name": "python",
   "nbconvert_exporter": "python",
   "pygments_lexer": "ipython3",
   "version": "3.7.4"
  }
 },
 "nbformat": 4,
 "nbformat_minor": 4
}
