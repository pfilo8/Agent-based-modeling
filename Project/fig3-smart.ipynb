{
 "cells": [
  {
   "cell_type": "markdown",
   "metadata": {},
   "source": [
    "# Structure of dynamic smart vampires"
   ]
  },
  {
   "cell_type": "code",
   "execution_count": 1,
   "metadata": {},
   "outputs": [
    {
     "name": "stderr",
     "output_type": "stream",
     "text": [
      "In /home/pwielopolski/anaconda3/envs/datascience/lib/python3.7/site-packages/matplotlib/mpl-data/stylelib/_classic_test.mplstyle: \n",
      "The text.latex.preview rcparam was deprecated in Matplotlib 3.3 and will be removed two minor releases later.\n",
      "In /home/pwielopolski/anaconda3/envs/datascience/lib/python3.7/site-packages/matplotlib/mpl-data/stylelib/_classic_test.mplstyle: \n",
      "The mathtext.fallback_to_cm rcparam was deprecated in Matplotlib 3.3 and will be removed two minor releases later.\n",
      "In /home/pwielopolski/anaconda3/envs/datascience/lib/python3.7/site-packages/matplotlib/mpl-data/stylelib/_classic_test.mplstyle: Support for setting the 'mathtext.fallback_to_cm' rcParam is deprecated since 3.3 and will be removed two minor releases later; use 'mathtext.fallback : 'cm' instead.\n",
      "In /home/pwielopolski/anaconda3/envs/datascience/lib/python3.7/site-packages/matplotlib/mpl-data/stylelib/_classic_test.mplstyle: \n",
      "The validate_bool_maybe_none function was deprecated in Matplotlib 3.3 and will be removed two minor releases later.\n",
      "In /home/pwielopolski/anaconda3/envs/datascience/lib/python3.7/site-packages/matplotlib/mpl-data/stylelib/_classic_test.mplstyle: \n",
      "The savefig.jpeg_quality rcparam was deprecated in Matplotlib 3.3 and will be removed two minor releases later.\n",
      "In /home/pwielopolski/anaconda3/envs/datascience/lib/python3.7/site-packages/matplotlib/mpl-data/stylelib/_classic_test.mplstyle: \n",
      "The keymap.all_axes rcparam was deprecated in Matplotlib 3.3 and will be removed two minor releases later.\n",
      "In /home/pwielopolski/anaconda3/envs/datascience/lib/python3.7/site-packages/matplotlib/mpl-data/stylelib/_classic_test.mplstyle: \n",
      "The animation.avconv_path rcparam was deprecated in Matplotlib 3.3 and will be removed two minor releases later.\n",
      "In /home/pwielopolski/anaconda3/envs/datascience/lib/python3.7/site-packages/matplotlib/mpl-data/stylelib/_classic_test.mplstyle: \n",
      "The animation.avconv_args rcparam was deprecated in Matplotlib 3.3 and will be removed two minor releases later.\n"
     ]
    }
   ],
   "source": [
    "from tqdm import tqdm\n",
    "\n",
    "import pandas as pd\n",
    "import plotly.graph_objects as go\n",
    "import matplotlib.pyplot as plt\n",
    "import numpy as np\n",
    "\n",
    "from agent.Vampire import SimpleVampire, SmartVampire, SmartDynamicVampire\n",
    "from agent.Vampire import SMART_VAMPIRE_STRATEGIES_PROB\n",
    "from model.VampireModel import VampireModel "
   ]
  },
  {
   "cell_type": "code",
   "execution_count": 2,
   "metadata": {},
   "outputs": [],
   "source": [
    "def map_motivation(value):\n",
    "    if value < -2:  \n",
    "        return 'Cheater'\n",
    "    elif -2 <= value < 0:\n",
    "        return 'Prudent'\n",
    "    elif 0 <= value <= 1:\n",
    "        return 'Fair'\n",
    "    elif 1 < value <= 4:\n",
    "        return 'Generous'\n",
    "    elif value > 4:\n",
    "        return 'Martyr'"
   ]
  },
  {
   "cell_type": "code",
   "execution_count": 3,
   "metadata": {},
   "outputs": [
    {
     "name": "stderr",
     "output_type": "stream",
     "text": [
      "100%|██████████| 100/100 [05:16<00:00,  3.17s/it]\n"
     ]
    }
   ],
   "source": [
    "res = []\n",
    "\n",
    "for _ in tqdm(range(100)):\n",
    "    model = VampireModel(\n",
    "        n_roots = 10,\n",
    "        root_size = 15,\n",
    "        max_iteration = 5000, \n",
    "        hunt_probability = 0.9,\n",
    "        food_sharing = True,\n",
    "        reproduction = True,\n",
    "        reproduction_probability = 0.5,\n",
    "        vampire_type = SmartDynamicVampire,\n",
    "        min_motivation = -4,\n",
    "        max_motivation = 8\n",
    "    )\n",
    "    model.run_model()\n",
    "\n",
    "    # df = model.datacollector.get_model_vars_dataframe()\n",
    "    # df.plot()\n",
    "\n",
    "    df = model.datacollector.get_agent_vars_dataframe()\n",
    "    df['Motivation'] = df['Motivation'].apply(map_motivation)\n",
    "    df = df.reset_index().groupby(['Motivation', 'Step'])['AgentID'].count().unstack(0)\n",
    "    res.append(df)"
   ]
  },
  {
   "cell_type": "code",
   "execution_count": 4,
   "metadata": {},
   "outputs": [],
   "source": [
    "df = pd.concat(res).reset_index().groupby('Step')[['Cheater', 'Fair', 'Generous', 'Martyr', 'Prudent']].mean()"
   ]
  },
  {
   "cell_type": "code",
   "execution_count": 5,
   "metadata": {},
   "outputs": [],
   "source": [
    "xlabel=\"Iterations\"\n",
    "ylabel=\"Number of vampires\"\n",
    "legend1=\"Cheater\"\n",
    "legend2=\"Fair\"\n",
    "legend3=\"Generous\"\n",
    "legend4=\"Martyr\"\n",
    "legend5=\"Prudent\"\n",
    "\n",
    "layout = go.Layout(\n",
    "    xaxis=dict(\n",
    "        title=xlabel,\n",
    "        linecolor=\"#BCCCDC\", \n",
    "        showgrid=False  \n",
    "    ),\n",
    "    yaxis=dict(\n",
    "        title=ylabel,  \n",
    "        linecolor=\"#BCCCDC\",  \n",
    "        showgrid=False,  \n",
    "    )\n",
    ")\n",
    "\n",
    "fig = go.Figure([\n",
    "    go.Scatter(\n",
    "        name=legend1,\n",
    "        x=df.index,\n",
    "        y=df[legend1],\n",
    "        mode='lines',\n",
    "        line=dict(color='#370725', width=3),\n",
    "    ),\n",
    "    go.Scatter(\n",
    "        name=legend5,\n",
    "        x=df.index,\n",
    "        y=df[legend5],\n",
    "        mode='lines',\n",
    "        line=dict(color='#982576', width=3),\n",
    "    ),\n",
    "    go.Scatter(\n",
    "        name=legend2,\n",
    "        x=df.index,\n",
    "        y=df[legend2],\n",
    "        mode='lines',\n",
    "        line=dict(color='#f07ace', width=3),\n",
    "    ),\n",
    "    go.Scatter(\n",
    "        name=legend3,\n",
    "        x=df.index,\n",
    "        y=df[legend3],\n",
    "        mode='lines',\n",
    "        line=dict(color='#c6dc5a', width=3),\n",
    "    ),\n",
    "    go.Scatter(\n",
    "        name=legend4,\n",
    "        x=df.index,\n",
    "        y=df[legend4],\n",
    "        mode='lines',\n",
    "        line=dict(color='#015715', width=3),\n",
    "    )\n",
    "],\n",
    "    layout=layout\n",
    ")\n",
    "\n",
    "fig.update_layout(template=\"plotly_dark\", plot_bgcolor='#a38285', paper_bgcolor='#a38285', font_size=16)\n",
    "fig.write_image('results/dynamic-smart.jpg')"
   ]
  },
  {
   "cell_type": "code",
   "execution_count": null,
   "metadata": {},
   "outputs": [],
   "source": []
  }
 ],
 "metadata": {
  "kernelspec": {
   "display_name": "Python 3",
   "language": "python",
   "name": "python3"
  },
  "language_info": {
   "codemirror_mode": {
    "name": "ipython",
    "version": 3
   },
   "file_extension": ".py",
   "mimetype": "text/x-python",
   "name": "python",
   "nbconvert_exporter": "python",
   "pygments_lexer": "ipython3",
   "version": "3.7.4"
  }
 },
 "nbformat": 4,
 "nbformat_minor": 4
}
